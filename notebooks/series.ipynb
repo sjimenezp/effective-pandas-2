{
 "cells": [
  {
   "attachments": {
    "97f3b1a7-40fa-41e9-b40c-386edfd76cf9.png": {
     "image/png": "[encoded data removed]"
    }
   },
   "cell_type": "markdown",
   "id": "1b0fc63a-2377-455f-84cb-00cd8ccdffc2",
   "metadata": {},
   "source": [
    "![image.png](attachment:97f3b1a7-40fa-41e9-b40c-386edfd76cf9.png)"
   ]
  },
  {
   "cell_type": "code",
   "execution_count": 1,
   "id": "cb863db1-9ce6-4e25-87ad-8699340078e1",
   "metadata": {},
   "outputs": [],
   "source": [
    "# Python dict\n",
    "series = {\n",
    "    'index': [0, 1, 2, 3],\n",
    "    'data': [145, 142, 38, 13],\n",
    "    'name': 'songs',\n",
    "}"
   ]
  },
  {
   "cell_type": "code",
   "execution_count": 2,
   "id": "8dd285ea-52db-464c-b4de-29317b973c16",
   "metadata": {},
   "outputs": [],
   "source": [
    "def get(series, idx):\n",
    "    value_idx = series['index'].index(idx)\n",
    "    return series['data'][value_idx]"
   ]
  },
  {
   "cell_type": "code",
   "execution_count": 3,
   "id": "2d9bca3f-18f7-4aeb-9015-dd6061b55567",
   "metadata": {},
   "outputs": [
    {
     "data": {
      "text/plain": [
       "142"
      ]
     },
     "execution_count": 3,
     "metadata": {},
     "output_type": "execute_result"
    }
   ],
   "source": [
    "get(series, 1)"
   ]
  },
  {
   "cell_type": "code",
   "execution_count": 4,
   "id": "8c8dae2e-12c1-4068-ab7d-f10725c3c9cc",
   "metadata": {},
   "outputs": [],
   "source": [
    "songs = {\n",
    "    'index': ['Paul', 'John', 'George', 'Ringo'],\n",
    "    'data': [145, 142, 38, 13],\n",
    "    'name': 'counts'\n",
    "}"
   ]
  },
  {
   "cell_type": "code",
   "execution_count": 6,
   "id": "32997ee9-3bab-42e7-a1b3-b01b8509719f",
   "metadata": {},
   "outputs": [
    {
     "data": {
      "text/plain": [
       "142"
      ]
     },
     "execution_count": 6,
     "metadata": {},
     "output_type": "execute_result"
    }
   ],
   "source": [
    "get(songs, 'John')"
   ]
  },
  {
   "cell_type": "markdown",
   "id": "69ae2266-bb00-4c6f-b8d0-90c52889eaa3",
   "metadata": {},
   "source": [
    "#### Pandas series"
   ]
  },
  {
   "cell_type": "code",
   "execution_count": 7,
   "id": "01c733f7-d793-4c74-8eda-e7c0e0f2fa6b",
   "metadata": {},
   "outputs": [],
   "source": [
    "import pandas as pd\n",
    "songs2 = pd.Series([145, 142, 38, 13],\n",
    "                   name='counts')"
   ]
  },
  {
   "cell_type": "code",
   "execution_count": 8,
   "id": "3e88bd4a-ea1d-4bcf-bb6a-340c8806cff4",
   "metadata": {},
   "outputs": [
    {
     "data": {
      "text/plain": [
       "0    145\n",
       "1    142\n",
       "2     38\n",
       "3     13\n",
       "Name: counts, dtype: int64"
      ]
     },
     "execution_count": 8,
     "metadata": {},
     "output_type": "execute_result"
    }
   ],
   "source": [
    "songs2"
   ]
  },
  {
   "cell_type": "code",
   "execution_count": 9,
   "id": "a3de492d-21ac-4dd3-96ef-a741cb6a64c7",
   "metadata": {},
   "outputs": [],
   "source": [
    "songs3 = pd.Series([145, 142, 38, 13],\n",
    "                   name='counts', dtype='int64[pyarrow]')"
   ]
  },
  {
   "cell_type": "code",
   "execution_count": 10,
   "id": "7a32b700-f6cb-47d1-8b28-c14b6dc5fd03",
   "metadata": {},
   "outputs": [
    {
     "data": {
      "text/plain": [
       "0    145\n",
       "1    142\n",
       "2     38\n",
       "3     13\n",
       "Name: counts, dtype: int64[pyarrow]"
      ]
     },
     "execution_count": 10,
     "metadata": {},
     "output_type": "execute_result"
    }
   ],
   "source": [
    "songs3"
   ]
  },
  {
   "cell_type": "code",
   "execution_count": 11,
   "id": "f4cf3745-2831-42dc-8c26-87ac27bcd921",
   "metadata": {},
   "outputs": [
    {
     "data": {
      "text/plain": [
       "RangeIndex(start=0, stop=4, step=1)"
      ]
     },
     "execution_count": 11,
     "metadata": {},
     "output_type": "execute_result"
    }
   ],
   "source": [
    "songs2.index"
   ]
  },
  {
   "cell_type": "code",
   "execution_count": 12,
   "id": "0a5476db-db82-4ca5-9597-dd8983f11176",
   "metadata": {},
   "outputs": [
    {
     "data": {
      "text/plain": [
       "RangeIndex(start=0, stop=4, step=1)"
      ]
     },
     "execution_count": 12,
     "metadata": {},
     "output_type": "execute_result"
    }
   ],
   "source": [
    "songs3.index"
   ]
  },
  {
   "cell_type": "code",
   "execution_count": 13,
   "id": "ec996c6c-af95-4405-bd0f-bc0354890b9b",
   "metadata": {},
   "outputs": [],
   "source": [
    "class Foo:\n",
    "    pass\n",
    "\n",
    "ringo = pd.Series(\n",
    "    ['Richard', 'Starkey', 13, Foo()],\n",
    "    name='ringo')"
   ]
  },
  {
   "cell_type": "code",
   "execution_count": 14,
   "id": "03326e53-599d-4a4a-9a69-72c262dccd6b",
   "metadata": {},
   "outputs": [
    {
     "data": {
      "text/plain": [
       "0                                        Richard\n",
       "1                                        Starkey\n",
       "2                                             13\n",
       "3    <__main__.Foo object at 0x000001FFEF0B7620>\n",
       "Name: ringo, dtype: object"
      ]
     },
     "execution_count": 14,
     "metadata": {},
     "output_type": "execute_result"
    }
   ],
   "source": [
    "ringo"
   ]
  },
  {
   "cell_type": "code",
   "execution_count": 15,
   "id": "72e4f447-3eac-4dc3-8432-84ce2927d10a",
   "metadata": {},
   "outputs": [],
   "source": [
    "import numpy as np"
   ]
  },
  {
   "cell_type": "code",
   "execution_count": 16,
   "id": "1a97eb3d-6fbf-4566-82cf-45a508079fd0",
   "metadata": {},
   "outputs": [],
   "source": [
    "nan_series = pd.Series([2, np.nan],\n",
    "                       index=['Ono', 'Clapton'])"
   ]
  },
  {
   "cell_type": "code",
   "execution_count": 17,
   "id": "07b1c4e8-66be-4518-ba7b-b4c93cd7a253",
   "metadata": {},
   "outputs": [
    {
     "data": {
      "text/plain": [
       "Ono        2.0\n",
       "Clapton    NaN\n",
       "dtype: float64"
      ]
     },
     "execution_count": 17,
     "metadata": {},
     "output_type": "execute_result"
    }
   ],
   "source": [
    "nan_series"
   ]
  },
  {
   "cell_type": "code",
   "execution_count": 18,
   "id": "761d1e03-11ba-4ef9-b7eb-308a03faf350",
   "metadata": {},
   "outputs": [],
   "source": [
    "nan_series2 = pd.Series([2, np.nan],\n",
    "                       index=['Ono', 'Clapton'], dtype='int64[pyarrow]')"
   ]
  },
  {
   "cell_type": "code",
   "execution_count": 19,
   "id": "6dd9f688-bea6-4de2-8d30-02bf694403b3",
   "metadata": {},
   "outputs": [
    {
     "data": {
      "text/plain": [
       "Ono           2\n",
       "Clapton    <NA>\n",
       "dtype: int64[pyarrow]"
      ]
     },
     "execution_count": 19,
     "metadata": {},
     "output_type": "execute_result"
    }
   ],
   "source": [
    "nan_series2"
   ]
  },
  {
   "cell_type": "code",
   "execution_count": 23,
   "id": "f636fb09-c5c5-4eaa-b1d0-94ad6ab4666b",
   "metadata": {},
   "outputs": [
    {
     "data": {
      "text/plain": [
       "np.int64(1)"
      ]
     },
     "execution_count": 23,
     "metadata": {},
     "output_type": "execute_result"
    }
   ],
   "source": [
    "# Ignores NA values\n",
    "nan_series2.count()"
   ]
  },
  {
   "cell_type": "code",
   "execution_count": 22,
   "id": "d512178d-a565-4891-a23d-d8c763d7120a",
   "metadata": {},
   "outputs": [
    {
     "data": {
      "text/plain": [
       "2"
      ]
     },
     "execution_count": 22,
     "metadata": {},
     "output_type": "execute_result"
    }
   ],
   "source": [
    "nan_series2.size"
   ]
  },
  {
   "cell_type": "code",
   "execution_count": 24,
   "id": "0f715e24-f022-47ba-92cd-8fc0282db65e",
   "metadata": {},
   "outputs": [],
   "source": [
    "numpy_ser = np.array([145, 142, 38, 13])"
   ]
  },
  {
   "cell_type": "code",
   "execution_count": 25,
   "id": "1e6a908e-8899-428a-880e-50e323e6d584",
   "metadata": {},
   "outputs": [
    {
     "data": {
      "text/plain": [
       "142"
      ]
     },
     "execution_count": 25,
     "metadata": {},
     "output_type": "execute_result"
    }
   ],
   "source": [
    "songs3.iloc[1]"
   ]
  },
  {
   "cell_type": "code",
   "execution_count": 26,
   "id": "4f87c6f9-02cd-4f56-b808-006559eda260",
   "metadata": {},
   "outputs": [
    {
     "data": {
      "text/plain": [
       "np.int64(142)"
      ]
     },
     "execution_count": 26,
     "metadata": {},
     "output_type": "execute_result"
    }
   ],
   "source": [
    "numpy_ser[1]"
   ]
  },
  {
   "cell_type": "code",
   "execution_count": 27,
   "id": "16479c70-2e92-4491-9caa-c11d000c813e",
   "metadata": {},
   "outputs": [
    {
     "data": {
      "text/plain": [
       "84.5"
      ]
     },
     "execution_count": 27,
     "metadata": {},
     "output_type": "execute_result"
    }
   ],
   "source": [
    "songs3.mean()"
   ]
  },
  {
   "cell_type": "code",
   "execution_count": 28,
   "id": "caa52a1c-10a3-4bea-b5cc-56d03d07bb74",
   "metadata": {},
   "outputs": [
    {
     "data": {
      "text/plain": [
       "np.float64(84.5)"
      ]
     },
     "execution_count": 28,
     "metadata": {},
     "output_type": "execute_result"
    }
   ],
   "source": [
    "numpy_ser.mean()"
   ]
  },
  {
   "cell_type": "code",
   "execution_count": 29,
   "id": "0702d08d-797e-4192-85cf-320a8fd8bd6e",
   "metadata": {},
   "outputs": [],
   "source": [
    "mask = songs3 > songs3.median()"
   ]
  },
  {
   "cell_type": "code",
   "execution_count": 30,
   "id": "286eac4d-83a6-434d-b6b9-f7a6c2bbf1ac",
   "metadata": {},
   "outputs": [
    {
     "data": {
      "text/plain": [
       "0     True\n",
       "1     True\n",
       "2    False\n",
       "3    False\n",
       "Name: counts, dtype: bool[pyarrow]"
      ]
     },
     "execution_count": 30,
     "metadata": {},
     "output_type": "execute_result"
    }
   ],
   "source": [
    "mask"
   ]
  },
  {
   "cell_type": "code",
   "execution_count": 31,
   "id": "48171724-fbe8-4847-9d56-f758a30f15e2",
   "metadata": {},
   "outputs": [
    {
     "data": {
      "text/plain": [
       "0    145\n",
       "1    142\n",
       "Name: counts, dtype: int64[pyarrow]"
      ]
     },
     "execution_count": 31,
     "metadata": {},
     "output_type": "execute_result"
    }
   ],
   "source": [
    "songs3[mask]"
   ]
  },
  {
   "cell_type": "code",
   "execution_count": 32,
   "id": "e9a96f5f-adad-4dec-8fae-1bf1b335fdcd",
   "metadata": {},
   "outputs": [
    {
     "data": {
      "text/plain": [
       "array([145, 142])"
      ]
     },
     "execution_count": 32,
     "metadata": {},
     "output_type": "execute_result"
    }
   ],
   "source": [
    "numpy_ser[numpy_ser > np.median(numpy_ser)]"
   ]
  },
  {
   "cell_type": "code",
   "execution_count": 33,
   "id": "e747d8f8-1f07-4645-9487-3bbc5b8476a6",
   "metadata": {},
   "outputs": [],
   "source": [
    "s = pd.Series(['s', 'm', 'l'], dtype='category')"
   ]
  },
  {
   "cell_type": "code",
   "execution_count": 34,
   "id": "6d7f6c0d-5495-4dc7-a04c-cd85053456b2",
   "metadata": {},
   "outputs": [
    {
     "data": {
      "text/plain": [
       "Index(['l', 'm', 's'], dtype='object')"
      ]
     },
     "execution_count": 34,
     "metadata": {},
     "output_type": "execute_result"
    }
   ],
   "source": [
    "s.cat.categories"
   ]
  },
  {
   "cell_type": "code",
   "execution_count": 36,
   "id": "8ee5e7f3-0985-46a0-8e66-51184788b6af",
   "metadata": {},
   "outputs": [
    {
     "data": {
      "text/plain": [
       "False"
      ]
     },
     "execution_count": 36,
     "metadata": {},
     "output_type": "execute_result"
    }
   ],
   "source": [
    "s.cat.ordered"
   ]
  },
  {
   "cell_type": "code",
   "execution_count": 35,
   "id": "a09bd8f4-8665-4334-9d99-f2c345a538d1",
   "metadata": {},
   "outputs": [
    {
     "data": {
      "text/plain": [
       "0    s\n",
       "1    m\n",
       "2    l\n",
       "dtype: category\n",
       "Categories (5, object): ['xs' < 's' < 'm' < 'l' < 'xl']"
      ]
     },
     "execution_count": 35,
     "metadata": {},
     "output_type": "execute_result"
    }
   ],
   "source": [
    "(s\n",
    " .cat.add_categories(['xs', 'xl', ])\n",
    " .cat.reorder_categories(['xs', 's', 'm', 'l', 'xl'],\n",
    "                         ordered=True)\n",
    ")"
   ]
  },
  {
   "cell_type": "markdown",
   "id": "b618d8c5-cf01-463d-8b9f-0bdab1f20ec1",
   "metadata": {},
   "source": [
    "### Series Deep Dive"
   ]
  },
  {
   "cell_type": "code",
   "execution_count": 38,
   "id": "75beaede-e71d-46d7-ac93-332801c385be",
   "metadata": {},
   "outputs": [],
   "source": [
    "url = 'https://github.com/mattharrison/datasets/raw/master/data/' \\\n",
    "        'vehicles.csv.zip'\n",
    "df = pd.read_csv(url, dtype_backend='pyarrow',\n",
    "                 engine='pyarrow')\n",
    "city_mpg = df.city08\n",
    "highway_mpg = df.highway08"
   ]
  },
  {
   "cell_type": "code",
   "execution_count": 39,
   "id": "99473537-a1e6-4b44-ac21-306657580d62",
   "metadata": {},
   "outputs": [
    {
     "data": {
      "text/plain": [
       "0        19\n",
       "1         9\n",
       "2        23\n",
       "3        10\n",
       "4        17\n",
       "         ..\n",
       "41139    19\n",
       "41140    20\n",
       "41141    18\n",
       "41142    18\n",
       "41143    16\n",
       "Name: city08, Length: 41144, dtype: int64[pyarrow]"
      ]
     },
     "execution_count": 39,
     "metadata": {},
     "output_type": "execute_result"
    }
   ],
   "source": [
    "city_mpg"
   ]
  },
  {
   "cell_type": "code",
   "execution_count": 40,
   "id": "7fee20a1-15b3-4b4a-8d27-44e5301e98f6",
   "metadata": {},
   "outputs": [
    {
     "data": {
      "text/plain": [
       "0        25\n",
       "1        14\n",
       "2        33\n",
       "3        12\n",
       "4        23\n",
       "         ..\n",
       "41139    26\n",
       "41140    28\n",
       "41141    24\n",
       "41142    24\n",
       "41143    21\n",
       "Name: highway08, Length: 41144, dtype: int64[pyarrow]"
      ]
     },
     "execution_count": 40,
     "metadata": {},
     "output_type": "execute_result"
    }
   ],
   "source": [
    "highway_mpg"
   ]
  },
  {
   "cell_type": "code",
   "execution_count": 41,
   "id": "9ccaea93-026a-469e-ae8a-bd1ca6810c42",
   "metadata": {},
   "outputs": [
    {
     "data": {
      "text/plain": [
       "422"
      ]
     },
     "execution_count": 41,
     "metadata": {},
     "output_type": "execute_result"
    }
   ],
   "source": [
    "len(dir(city_mpg))"
   ]
  }
 ],
 "metadata": {
  "kernelspec": {
   "display_name": "Python 3 (ipykernel)",
   "language": "python",
   "name": "python3"
  },
  "language_info": {
   "codemirror_mode": {
    "name": "ipython",
    "version": 3
   },
   "file_extension": ".py",
   "mimetype": "text/x-python",
   "name": "python",
   "nbconvert_exporter": "python",
   "pygments_lexer": "ipython3",
   "version": "3.13.3"
  }
 },
 "nbformat": 4,
 "nbformat_minor": 5
}
