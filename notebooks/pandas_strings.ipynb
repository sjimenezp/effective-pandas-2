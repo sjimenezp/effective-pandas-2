{
 "cells": [
  {
   "cell_type": "code",
   "execution_count": 2,
   "id": "bea44e80-8211-4306-be44-19a587d09163",
   "metadata": {},
   "outputs": [],
   "source": [
    "import pandas as pd\n",
    "import pyarrow as pa"
   ]
  },
  {
   "cell_type": "code",
   "execution_count": 3,
   "id": "86943371-713d-4ad9-b804-aca71af639a2",
   "metadata": {},
   "outputs": [],
   "source": [
    "string_pa = pd.ArrowDtype(pa.string())"
   ]
  },
  {
   "cell_type": "code",
   "execution_count": 4,
   "id": "baf5d193-a178-4271-9c75-cb14803f6627",
   "metadata": {},
   "outputs": [],
   "source": [
    "text_freeform = ['My name is Jeff', 'I like pandas',\n",
    "                 'I like programming']\n",
    "\n",
    "text_with_missing = ['My name is Jeff', None, 'I like programming']"
   ]
  },
  {
   "cell_type": "code",
   "execution_count": 5,
   "id": "21d1b513-6ce2-42ca-8dae-8893719d2977",
   "metadata": {},
   "outputs": [
    {
     "data": {
      "text/plain": [
       "0       My name is Jeff\n",
       "1         I like pandas\n",
       "2    I like programming\n",
       "dtype: object"
      ]
     },
     "execution_count": 5,
     "metadata": {},
     "output_type": "execute_result"
    }
   ],
   "source": [
    "pd.Series(text_freeform)"
   ]
  },
  {
   "cell_type": "code",
   "execution_count": 6,
   "id": "30d1ba77-9a6f-4041-927b-7d32d0a9f361",
   "metadata": {},
   "outputs": [
    {
     "data": {
      "text/plain": [
       "0       My name is Jeff\n",
       "1                  None\n",
       "2    I like programming\n",
       "dtype: object"
      ]
     },
     "execution_count": 6,
     "metadata": {},
     "output_type": "execute_result"
    }
   ],
   "source": [
    "pd.Series(text_with_missing)"
   ]
  },
  {
   "cell_type": "code",
   "execution_count": 7,
   "id": "cf7a8a9c-f015-4393-b1ca-c646a8c513f2",
   "metadata": {},
   "outputs": [
    {
     "data": {
      "text/plain": [
       "0       My name is Jeff\n",
       "1         I like pandas\n",
       "2    I like programming\n",
       "dtype: string[pyarrow]"
      ]
     },
     "execution_count": 7,
     "metadata": {},
     "output_type": "execute_result"
    }
   ],
   "source": [
    "pd.Series(text_freeform, dtype=string_pa)"
   ]
  },
  {
   "cell_type": "code",
   "execution_count": 8,
   "id": "58aeee80-b548-4823-884f-bb817c3c90dd",
   "metadata": {},
   "outputs": [
    {
     "data": {
      "text/plain": [
       "0       My name is Jeff\n",
       "1         I like pandas\n",
       "2    I like programming\n",
       "dtype: string"
      ]
     },
     "execution_count": 8,
     "metadata": {},
     "output_type": "execute_result"
    }
   ],
   "source": [
    "pd.Series(text_freeform, dtype='string[pyarrow]')"
   ]
  },
  {
   "cell_type": "code",
   "execution_count": 9,
   "id": "e2f3bb24-bd4c-47c6-89ba-268ae16c0b0a",
   "metadata": {},
   "outputs": [
    {
     "data": {
      "text/plain": [
       "0       My name is Jeff\n",
       "1                  <NA>\n",
       "2    I like programming\n",
       "dtype: string[pyarrow]"
      ]
     },
     "execution_count": 9,
     "metadata": {},
     "output_type": "execute_result"
    }
   ],
   "source": [
    "pd.Series(text_with_missing, dtype=string_pa)"
   ]
  }
 ],
 "metadata": {
  "kernelspec": {
   "display_name": "Python 3 (ipykernel)",
   "language": "python",
   "name": "python3"
  },
  "language_info": {
   "codemirror_mode": {
    "name": "ipython",
    "version": 3
   },
   "file_extension": ".py",
   "mimetype": "text/x-python",
   "name": "python",
   "nbconvert_exporter": "python",
   "pygments_lexer": "ipython3",
   "version": "3.13.3"
  }
 },
 "nbformat": 4,
 "nbformat_minor": 5
}
